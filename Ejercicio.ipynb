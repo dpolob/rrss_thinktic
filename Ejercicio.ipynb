{
 "cells": [
  {
   "cell_type": "markdown",
   "id": "8d9294af-a772-4020-8328-c5f01f51aea7",
   "metadata": {},
   "source": [
    "# ANÁLISIS DE REDES SOCIALES CON PYTHON\n",
    "## Diego Polo Benito\n",
    "### 3 octubre 2021"
   ]
  },
  {
   "cell_type": "code",
   "execution_count": 1,
   "id": "a60060ae-217c-4711-9699-235328ab337e",
   "metadata": {},
   "outputs": [],
   "source": [
    "from secretos import twitter_keys as tk\n",
    "import tweepy\n",
    "import pandas as pd\n",
    "import networkx as nx\n",
    "import networkx.algorithms.community as nxcom\n",
    "import operator\n",
    "import matplotlib.pyplot as plt"
   ]
  },
  {
   "cell_type": "code",
   "execution_count": 2,
   "id": "b778bc56-1449-44ce-af5c-d1f35bf3ba1a",
   "metadata": {},
   "outputs": [],
   "source": [
    "def extract_connections_from_status(status, mentions, replies, retweets):\n",
    "    for mention in status.entities['user_mentions']:\n",
    "        mentions.append((status.user.screen_name, mention['screen_name']))\n",
    "        if 'retweeted_status' in status._json:\n",
    "            retweets.append((status.user.screen_name, status.retweeted_status.user.id))\n",
    "        elif status.in_reply_to_screen_name:\n",
    "            replies.append((status.user.screen_name, status.in_reply_to_screen_name))"
   ]
  },
  {
   "cell_type": "markdown",
   "id": "6830fcb3-f845-4e11-ac95-aaff2ef96475",
   "metadata": {},
   "source": [
    "## Captura de datos"
   ]
  },
  {
   "cell_type": "code",
   "execution_count": 3,
   "id": "acbbb7cd-3e86-4412-a6e3-6f63d84ac60a",
   "metadata": {},
   "outputs": [
    {
     "name": "stdout",
     "output_type": "stream",
     "text": [
      "<class 'pandas.core.frame.DataFrame'>\n",
      "RangeIndex: 2407 entries, 0 to 2406\n",
      "Data columns (total 2 columns):\n",
      " #   Column  Non-Null Count  Dtype \n",
      "---  ------  --------------  ----- \n",
      " 0   from    2407 non-null   object\n",
      " 1   to      2407 non-null   object\n",
      "dtypes: object(2)\n",
      "memory usage: 37.7+ KB\n"
     ]
    }
   ],
   "source": [
    "# tk es dict. Ejemplo en secretos_fake.py\n",
    "\n",
    "auth = tweepy.OAuthHandler(tk['APIKey'], tk['APIKeySecret'])\n",
    "auth.set_access_token(tk['AccessToken'], tk['AccessTokenSecret'])\n",
    "\n",
    "api = tweepy.API(auth)\n",
    "\n",
    "# MODIFICAR EL VALOR DE items() PARA MAS TWEETS.------------------------|\n",
    "#                                                                       |\n",
    "#                                                                      \\/\n",
    "statuses = tweepy.Cursor(api.search_tweets, \"Trump\", count=500).items(1000)\n",
    "\n",
    "mentions = []\n",
    "replies = []\n",
    "retweets = []\n",
    "for status in statuses:\n",
    "    extract_connections_from_status(status, mentions, replies, retweets)\n",
    "\n",
    "df = pd.DataFrame(mentions+replies+retweets, columns =['from', 'to'])\n",
    "df.to_csv('trump_graph.csv', sep=',', header=False, index=False)\n",
    "df.info()"
   ]
  },
  {
   "cell_type": "code",
   "execution_count": 4,
   "id": "480fc2d1-9166-4570-a8fa-ffaa3ca494bd",
   "metadata": {},
   "outputs": [
    {
     "data": {
      "text/html": [
       "<div>\n",
       "<style scoped>\n",
       "    .dataframe tbody tr th:only-of-type {\n",
       "        vertical-align: middle;\n",
       "    }\n",
       "\n",
       "    .dataframe tbody tr th {\n",
       "        vertical-align: top;\n",
       "    }\n",
       "\n",
       "    .dataframe thead th {\n",
       "        text-align: right;\n",
       "    }\n",
       "</style>\n",
       "<table border=\"1\" class=\"dataframe\">\n",
       "  <thead>\n",
       "    <tr style=\"text-align: right;\">\n",
       "      <th></th>\n",
       "      <th>from</th>\n",
       "      <th>to</th>\n",
       "    </tr>\n",
       "  </thead>\n",
       "  <tbody>\n",
       "    <tr>\n",
       "      <th>0</th>\n",
       "      <td>gehenna4Life</td>\n",
       "      <td>AaronParnas</td>\n",
       "    </tr>\n",
       "    <tr>\n",
       "      <th>1</th>\n",
       "      <td>deadbloke</td>\n",
       "      <td>Secret_Junkyard</td>\n",
       "    </tr>\n",
       "    <tr>\n",
       "      <th>2</th>\n",
       "      <td>deadbloke</td>\n",
       "      <td>MrPaulRobinson</td>\n",
       "    </tr>\n",
       "    <tr>\n",
       "      <th>3</th>\n",
       "      <td>JoanneCangal</td>\n",
       "      <td>AaronParnas</td>\n",
       "    </tr>\n",
       "    <tr>\n",
       "      <th>4</th>\n",
       "      <td>FlagKnitter</td>\n",
       "      <td>glennkirschner2</td>\n",
       "    </tr>\n",
       "  </tbody>\n",
       "</table>\n",
       "</div>"
      ],
      "text/plain": [
       "           from               to\n",
       "0  gehenna4Life      AaronParnas\n",
       "1     deadbloke  Secret_Junkyard\n",
       "2     deadbloke   MrPaulRobinson\n",
       "3  JoanneCangal      AaronParnas\n",
       "4   FlagKnitter  glennkirschner2"
      ]
     },
     "execution_count": 4,
     "metadata": {},
     "output_type": "execute_result"
    }
   ],
   "source": [
    "df.head()"
   ]
  },
  {
   "cell_type": "markdown",
   "id": "7a6b69c8-b1f1-4866-a067-c492af72d3e7",
   "metadata": {},
   "source": [
    "## Grafo"
   ]
  },
  {
   "cell_type": "code",
   "execution_count": 6,
   "id": "1938384e-b42d-479a-90cb-8c0d8c761b50",
   "metadata": {},
   "outputs": [],
   "source": [
    "G = nx.read_edgelist('trump_graph.csv', delimiter=',')\n",
    "nodes = [k[0] for k in G.degree if k[1]>=15]\n",
    "G_simple = G.subgraph(nodes)"
   ]
  },
  {
   "cell_type": "code",
   "execution_count": 7,
   "id": "71332ddb-6f35-4245-a0d5-fdf66b8ae8be",
   "metadata": {},
   "outputs": [
    {
     "name": "stdout",
     "output_type": "stream",
     "text": [
      "Info\n",
      "G: Graph with 1596 nodes and 1781 edges G_simple: Graph with 14 nodes and 4 edges\n",
      "Density\n",
      "G: 0.0013992661905547568 G_simple: 0.04395604395604396\n"
     ]
    }
   ],
   "source": [
    "print(\"Info\")\n",
    "print(f\"G: {nx.info(G)} G_simple: {nx.info(G_simple)}\")\n",
    "print(\"Density\")\n",
    "print(f\"G: {nx.density(G)} G_simple: {nx.density(G_simple)}\")"
   ]
  },
  {
   "cell_type": "code",
   "execution_count": 8,
   "id": "bdbb8c43-40e7-42e1-a68d-609d695284af",
   "metadata": {},
   "outputs": [
    {
     "data": {
      "image/png": "[encoded data removed]",
      "text/plain": [
       "<Figure size 432x288 with 1 Axes>"
      ]
     },
     "metadata": {},
     "output_type": "display_data"
    }
   ],
   "source": [
    "nx.draw(G_simple)"
   ]
  },
  {
   "cell_type": "code",
   "execution_count": 9,
   "id": "469702d4-f552-46a6-9f53-cd922463b070",
   "metadata": {},
   "outputs": [
    {
     "data": {
      "image/png": "[encoded data removed]",
      "text/plain": [
       "<Figure size 432x288 with 1 Axes>"
      ]
     },
     "metadata": {},
     "output_type": "display_data"
    }
   ],
   "source": [
    "largest_cc = max(nx.connected_components(G_simple), key=len)\n",
    "G_simple_conn = G_simple.subgraph(largest_cc)\n",
    "nx.draw(G_simple_conn)"
   ]
  },
  {
   "cell_type": "code",
   "execution_count": 10,
   "id": "989a3851-c3d8-4cd7-8d26-024901eebd08",
   "metadata": {},
   "outputs": [
    {
     "name": "stdout",
     "output_type": "stream",
     "text": [
      "Nodo con maxima centralidad de intermediacion: ClaraGu05568105  con 0.004633075644024582\n"
     ]
    }
   ],
   "source": [
    "btw_cen = [(node, nx.betweenness_centrality(G)[node]) for node in G_simple_conn.nodes()]\n",
    "print(f\"Nodo con maxima centralidad de intermediacion: {sorted(btw_cen, key = lambda x: x[1])[0][0]}\",\n",
    "      f\" con {sorted(btw_cen, key = lambda x: x[1])[0][1]}\")"
   ]
  },
  {
   "cell_type": "code",
   "execution_count": 11,
   "id": "bd65cd8c-95c8-481f-85c4-284632546ded",
   "metadata": {},
   "outputs": [
    {
     "name": "stdout",
     "output_type": "stream",
     "text": [
      "Nodo con maxima centralidad de katz: stuartpstevens  con 0.47691049988629\n"
     ]
    }
   ],
   "source": [
    "katz_cen = nx.katz_centrality(G_simple_conn)\n",
    "print(f\"Nodo con maxima centralidad de katz: {sorted(katz_cen.items(), key = operator.itemgetter(1))[0][0]}\",\n",
    "      f\" con {sorted(katz_cen.items(), key = operator.itemgetter(1))[0][1]}\")"
   ]
  },
  {
   "cell_type": "code",
   "execution_count": 12,
   "id": "2afc8617-dab0-4a72-93a3-a9479846a87a",
   "metadata": {},
   "outputs": [],
   "source": [
    "coms = nxcom.greedy_modularity_communities(G_simple_conn)\n",
    "com_colors = []\n",
    "for id_c, c in enumerate(coms):\n",
    "    for node in c:\n",
    "        G.nodes[node]['community'] = id_c + 1\n",
    "        G.nodes[node]['comm_color'] = id_c + 1"
   ]
  },
  {
   "cell_type": "code",
   "execution_count": 13,
   "id": "231961ae-e761-4dda-bc62-1e26a4dbdc91",
   "metadata": {},
   "outputs": [
    {
     "data": {
      "image/png": "[encoded data removed]",
      "text/plain": [
       "<Figure size 432x288 with 1 Axes>"
      ]
     },
     "metadata": {},
     "output_type": "display_data"
    }
   ],
   "source": [
    "pos = nx.spring_layout(G_simple_conn)\n",
    "nx.draw_networkx(G_simple_conn, cmap=plt.get_cmap(\"rainbow\"), \n",
    "                 pos = pos, node_color=[G_simple_conn.nodes[_]['comm_color'] for _ in G_simple_conn.nodes], label=False)"
   ]
  }
 ],
 "metadata": {
  "kernelspec": {
   "display_name": "Python 3 (ipykernel)",
   "language": "python",
   "name": "python3"
  },
  "language_info": {
   "codemirror_mode": {
    "name": "ipython",
    "version": 3
   },
   "file_extension": ".py",
   "mimetype": "text/x-python",
   "name": "python",
   "nbconvert_exporter": "python",
   "pygments_lexer": "ipython3",
   "version": "3.9.7"
  }
 },
 "nbformat": 4,
 "nbformat_minor": 5
}
